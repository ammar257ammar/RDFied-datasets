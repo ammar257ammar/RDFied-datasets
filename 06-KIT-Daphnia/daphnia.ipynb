{
 "cells": [
  {
   "cell_type": "code",
   "execution_count": 16,
   "id": "f6ccbb21",
   "metadata": {},
   "outputs": [],
   "source": [
    "import pandas as pd\n",
    "import numpy as np"
   ]
  },
  {
   "cell_type": "code",
   "execution_count": 2,
   "id": "2f0b9674",
   "metadata": {},
   "outputs": [],
   "source": [
    "#!pip3 install edelweiss_data"
   ]
  },
  {
   "cell_type": "code",
   "execution_count": 32,
   "id": "e77665b9",
   "metadata": {},
   "outputs": [],
   "source": [
    "from edelweiss_data import API, QueryExpression as Q\n",
    "\n",
    "api = API('https://api.staging.kit.cloud.douglasconnect.com')\n",
    "\n",
    "dataset = api.get_published_dataset(\n",
    "  id = 'ab2bc1ee-99dc-4ddf-b1f9-9fdeb8a0f48c',\n",
    "  version = 'latest', # Change to 'latest' to always get the latest version\n",
    ")\n",
    "\n",
    "data_frame = dataset.get_data(\n",
    "  condition = None,\n",
    "  aggregation_filters = {},\n",
    "  ascending = None,\n",
    ")"
   ]
  },
  {
   "cell_type": "code",
   "execution_count": 59,
   "id": "47de07e4",
   "metadata": {},
   "outputs": [],
   "source": [
    "daphnia_df = data_frame.copy()"
   ]
  },
  {
   "cell_type": "code",
   "execution_count": 60,
   "id": "b1b7c8b1",
   "metadata": {},
   "outputs": [
    {
     "data": {
      "text/plain": [
       "Exposure Time                      int64\n",
       "Exposure Day                     float64\n",
       "Water                             object\n",
       "Materials in Water                object\n",
       "Conc. of Materials               float64\n",
       "Number of Daphina                  int64\n",
       "Daphnia (hour old)               float64\n",
       "Test Solution (mL)               float64\n",
       "Container (mL)                   float64\n",
       "Repeating Number                 float64\n",
       "RPM                              float64\n",
       "Food                             float64\n",
       "Menu                              object\n",
       "Food Concentration (cells/mL)    float64\n",
       "Test Solution Renewer (day)      float64\n",
       "Temperature (℃)                  float64\n",
       "Radiation (m)                     object\n",
       "EC50                             float64\n",
       "EC UL                            float64\n",
       "EC LL                            float64\n",
       "dtype: object"
      ]
     },
     "execution_count": 60,
     "metadata": {},
     "output_type": "execute_result"
    }
   ],
   "source": [
    "daphnia_df.dtypes[40:60]"
   ]
  },
  {
   "cell_type": "code",
   "execution_count": 61,
   "id": "649e00de",
   "metadata": {},
   "outputs": [
    {
     "data": {
      "text/plain": [
       "array([None, '99.6', '99', '99.5', '99.9', '90', '98', '95', '01:01.6',\n",
       "       '01:03.1', '01:04.2', '2:08', '8:02', '99.8', '71', '99.4', '97.5',\n",
       "       '85', '0.7', '95.5', '100', '99.98', '30', '99.7', '89.05',\n",
       "       '89.03', '89.91', '95.96', '96.98'], dtype=object)"
      ]
     },
     "execution_count": 61,
     "metadata": {},
     "output_type": "execute_result"
    }
   ],
   "source": [
    "daphnia_df['Purity (%)'].unique()"
   ]
  },
  {
   "cell_type": "code",
   "execution_count": 62,
   "id": "7a7ff808",
   "metadata": {},
   "outputs": [],
   "source": [
    "daphnia_df.loc[daphnia_df['Purity (%)'] == '01:01.6','Purity (%)'] = None\n",
    "daphnia_df.loc[daphnia_df['Purity (%)'] == '01:03.1','Purity (%)'] = None\n",
    "daphnia_df.loc[daphnia_df['Purity (%)'] == '01:04.2','Purity (%)'] = None\n",
    "daphnia_df.loc[daphnia_df['Purity (%)'] == '2:08','Purity (%)'] = None\n",
    "daphnia_df.loc[daphnia_df['Purity (%)'] == '8:02','Purity (%)'] = None"
   ]
  },
  {
   "cell_type": "code",
   "execution_count": 63,
   "id": "a92aca0d",
   "metadata": {},
   "outputs": [],
   "source": [
    "daphnia_df['Purity (%)'] = daphnia_df['Purity (%)'].astype(float)"
   ]
  },
  {
   "cell_type": "code",
   "execution_count": 64,
   "id": "3c9c86f5",
   "metadata": {},
   "outputs": [
    {
     "data": {
      "text/plain": [
       "array([   nan,  99.6 ,  99.  ,  99.5 ,  99.9 ,  90.  ,  98.  ,  95.  ,\n",
       "        99.8 ,  71.  ,  99.4 ,  97.5 ,  85.  ,   0.7 ,  95.5 , 100.  ,\n",
       "        99.98,  30.  ,  99.7 ,  89.05,  89.03,  89.91,  95.96,  96.98])"
      ]
     },
     "execution_count": 64,
     "metadata": {},
     "output_type": "execute_result"
    }
   ],
   "source": [
    "daphnia_df['Purity (%)'].unique()"
   ]
  },
  {
   "cell_type": "code",
   "execution_count": 65,
   "id": "ad6393fb",
   "metadata": {},
   "outputs": [
    {
     "data": {
      "text/plain": [
       "Index(['Sample', 'Reference', 'NP Source', 'NP Type', 'NP Core',\n",
       "       'Diam. (mean) (nm)', 'Diam. (max) (nm)', 'Diam. (min) (nm)',\n",
       "       'Length (average) (µm)', 'Length (max) (µm)', 'Length (min) (µm)',\n",
       "       'MW (Dalton)', 'Density (g/L)', 'Dispersity (original)',\n",
       "       'Hydrodynamic Size', 'Dispersity (water)', 'Surface Area (m2/g)',\n",
       "       'Agg. (mean) (nm)', 'Agg. (max) (nm)', 'Agg. (min) (nm)',\n",
       "       'Zeta Potential (mV)', 'Image', 'Shape', 'Purity (%)', 'Coating',\n",
       "       'Coating Material', 'Crystalline', 'Centrifuge', 'Stir', 'Stirring',\n",
       "       'Stirring Rate', 'Sonication', 'Sonication2', 'Sonication Freq.',\n",
       "       'Filter', 'Solubilization Media', 'Maximal Dose', 'Minimal Dose',\n",
       "       'Dissolved Cation (mg/L or %)', 'pH', 'Exposure Time', 'Exposure Day',\n",
       "       'Water', 'Materials in Water', 'Conc. of Materials',\n",
       "       'Number of Daphina', 'Daphnia (hour old)', 'Test Solution (mL)',\n",
       "       'Container (mL)', 'Repeating Number', 'RPM', 'Food ', 'Menu',\n",
       "       'Food Concentration (cells/mL)', 'Test Solution Renewer (day)',\n",
       "       'Temperature (℃)', 'Radiation (m)', 'EC50', 'EC UL', 'EC LL',\n",
       "       'Immobilisation Rate', 'Immobilisation Concentration', 'LC50', 'LC UL',\n",
       "       'LC LL', 'Mortality', 'Mortality Concentration', 'Others feature'],\n",
       "      dtype='object')"
      ]
     },
     "execution_count": 65,
     "metadata": {},
     "output_type": "execute_result"
    }
   ],
   "source": [
    "daphnia_df.columns"
   ]
  },
  {
   "cell_type": "code",
   "execution_count": 66,
   "id": "e5f25dbc",
   "metadata": {},
   "outputs": [],
   "source": [
    "daphnia_df.columns = ['sample', 'reference', 'np_source', 'np_type', 'np_core',\n",
    "       'diameter_mean', 'diameter_max', 'diameter_min',\n",
    "       'length_mean', 'length_max', 'length_min',\n",
    "       'molecular_weight', 'density', 'dispersity_original',\n",
    "       'hydrodynamic_size', 'dispersity_water', 'surface_area',\n",
    "       'aggregate_size_mean', 'aggregate_size_max', 'aggregate_size_min',\n",
    "       'zeta_potential', 'image', 'shape', 'purity', 'coating',\n",
    "       'coating_material', 'crystalline', 'centrifuge', 'stir', 'stirring',\n",
    "       'stirring_rate', 'sonication', 'sonication2', 'sonication_freq.',\n",
    "       'filter', 'solubilization_media', 'maximal_dose', 'minimal_dose',\n",
    "       'dissolved_cation', 'ph', 'exposure_time', 'exposure_day',\n",
    "       'water', 'materials_in_water', 'concentration_of_materials',\n",
    "       'number_of_daphina', 'daphnia_age_hour', 'test_solution',\n",
    "       'container_size', 'repeating_number', 'rpm', 'food ', 'menu',\n",
    "       'food_concentration', 'test_solution_renewer',\n",
    "       'temperature', 'radiation', 'ec50', 'ec_ul', 'ec_ll',\n",
    "       'immobilisation_rate', 'immobilisation_concentration', 'lc50', 'lc_ul',\n",
    "       'lc_ll', 'mortality', 'mortality_concentration', 'others_feature']"
   ]
  },
  {
   "cell_type": "code",
   "execution_count": 67,
   "id": "bf46728b",
   "metadata": {},
   "outputs": [],
   "source": [
    "daphnia_df.to_csv('data.csv', encoding='utf-8', index=False)"
   ]
  },
  {
   "cell_type": "code",
   "execution_count": 68,
   "id": "499c45d9",
   "metadata": {},
   "outputs": [
    {
     "data": {
      "text/html": [
       "<div>\n",
       "<style scoped>\n",
       "    .dataframe tbody tr th:only-of-type {\n",
       "        vertical-align: middle;\n",
       "    }\n",
       "\n",
       "    .dataframe tbody tr th {\n",
       "        vertical-align: top;\n",
       "    }\n",
       "\n",
       "    .dataframe thead th {\n",
       "        text-align: right;\n",
       "    }\n",
       "</style>\n",
       "<table border=\"1\" class=\"dataframe\">\n",
       "  <thead>\n",
       "    <tr style=\"text-align: right;\">\n",
       "      <th></th>\n",
       "      <th>sample</th>\n",
       "      <th>reference</th>\n",
       "      <th>np_source</th>\n",
       "      <th>np_type</th>\n",
       "      <th>np_core</th>\n",
       "      <th>diameter_mean</th>\n",
       "      <th>diameter_max</th>\n",
       "      <th>diameter_min</th>\n",
       "      <th>length_mean</th>\n",
       "      <th>length_max</th>\n",
       "      <th>...</th>\n",
       "      <th>ec_ul</th>\n",
       "      <th>ec_ll</th>\n",
       "      <th>immobilisation_rate</th>\n",
       "      <th>immobilisation_concentration</th>\n",
       "      <th>lc50</th>\n",
       "      <th>lc_ul</th>\n",
       "      <th>lc_ll</th>\n",
       "      <th>mortality</th>\n",
       "      <th>mortality_concentration</th>\n",
       "      <th>others_feature</th>\n",
       "    </tr>\n",
       "  </thead>\n",
       "  <tbody>\n",
       "    <tr>\n",
       "      <th>1</th>\n",
       "      <td>1</td>\n",
       "      <td>1</td>\n",
       "      <td>in house</td>\n",
       "      <td>MeOx</td>\n",
       "      <td>CeO2</td>\n",
       "      <td>6.5</td>\n",
       "      <td>NaN</td>\n",
       "      <td>NaN</td>\n",
       "      <td>NaN</td>\n",
       "      <td>NaN</td>\n",
       "      <td>...</td>\n",
       "      <td>11.000</td>\n",
       "      <td>15.000</td>\n",
       "      <td>50.0</td>\n",
       "      <td>12.000</td>\n",
       "      <td>NaN</td>\n",
       "      <td>NaN</td>\n",
       "      <td>NaN</td>\n",
       "      <td>NaN</td>\n",
       "      <td>NaN</td>\n",
       "      <td>단위 환산 error, water condition, LC -&gt; EC</td>\n",
       "    </tr>\n",
       "    <tr>\n",
       "      <th>2</th>\n",
       "      <td>2</td>\n",
       "      <td>1</td>\n",
       "      <td>in house</td>\n",
       "      <td>MeOx</td>\n",
       "      <td>TiO2</td>\n",
       "      <td>7.5</td>\n",
       "      <td>NaN</td>\n",
       "      <td>NaN</td>\n",
       "      <td>NaN</td>\n",
       "      <td>NaN</td>\n",
       "      <td>...</td>\n",
       "      <td>13.000</td>\n",
       "      <td>20.000</td>\n",
       "      <td>50.0</td>\n",
       "      <td>16.000</td>\n",
       "      <td>NaN</td>\n",
       "      <td>NaN</td>\n",
       "      <td>NaN</td>\n",
       "      <td>NaN</td>\n",
       "      <td>NaN</td>\n",
       "      <td>단위 환산 error, water condition, LC -&gt; EC</td>\n",
       "    </tr>\n",
       "    <tr>\n",
       "      <th>3</th>\n",
       "      <td>3</td>\n",
       "      <td>1</td>\n",
       "      <td>in house</td>\n",
       "      <td>MeOx</td>\n",
       "      <td>Fe3O4</td>\n",
       "      <td>6.0</td>\n",
       "      <td>NaN</td>\n",
       "      <td>NaN</td>\n",
       "      <td>NaN</td>\n",
       "      <td>NaN</td>\n",
       "      <td>...</td>\n",
       "      <td>0.170</td>\n",
       "      <td>0.380</td>\n",
       "      <td>50.0</td>\n",
       "      <td>0.230</td>\n",
       "      <td>NaN</td>\n",
       "      <td>NaN</td>\n",
       "      <td>NaN</td>\n",
       "      <td>NaN</td>\n",
       "      <td>NaN</td>\n",
       "      <td>단위 환산 error, water condition, LC -&gt; EC</td>\n",
       "    </tr>\n",
       "    <tr>\n",
       "      <th>4</th>\n",
       "      <td>4</td>\n",
       "      <td>2</td>\n",
       "      <td>Nanjing high technology NANO Co., LTD</td>\n",
       "      <td>MeOx</td>\n",
       "      <td>ZnO</td>\n",
       "      <td>20.0</td>\n",
       "      <td>NaN</td>\n",
       "      <td>NaN</td>\n",
       "      <td>NaN</td>\n",
       "      <td>NaN</td>\n",
       "      <td>...</td>\n",
       "      <td>0.805</td>\n",
       "      <td>0.411</td>\n",
       "      <td>0.5</td>\n",
       "      <td>0.622</td>\n",
       "      <td>1.511</td>\n",
       "      <td>2.108</td>\n",
       "      <td>1.120</td>\n",
       "      <td>50.0</td>\n",
       "      <td>1.511</td>\n",
       "      <td>bulk, carbon data 추가, 단위 환산 error, water condi...</td>\n",
       "    </tr>\n",
       "    <tr>\n",
       "      <th>5</th>\n",
       "      <td>5</td>\n",
       "      <td>2</td>\n",
       "      <td>Third chemical regent factory of Tianjin</td>\n",
       "      <td>MeOx</td>\n",
       "      <td>ZnO</td>\n",
       "      <td>1000.0</td>\n",
       "      <td>NaN</td>\n",
       "      <td>NaN</td>\n",
       "      <td>NaN</td>\n",
       "      <td>NaN</td>\n",
       "      <td>...</td>\n",
       "      <td>0.667</td>\n",
       "      <td>0.301</td>\n",
       "      <td>0.5</td>\n",
       "      <td>0.481</td>\n",
       "      <td>1.250</td>\n",
       "      <td>1.848</td>\n",
       "      <td>0.985</td>\n",
       "      <td>50.0</td>\n",
       "      <td>1.250</td>\n",
       "      <td>bulk, carbon data 추가, 단위 환산 error, water condi...</td>\n",
       "    </tr>\n",
       "  </tbody>\n",
       "</table>\n",
       "<p>5 rows × 68 columns</p>\n",
       "</div>"
      ],
      "text/plain": [
       "   sample reference                                 np_source np_type np_core  \\\n",
       "1       1         1                                  in house    MeOx    CeO2   \n",
       "2       2         1                                  in house    MeOx    TiO2   \n",
       "3       3         1                                  in house    MeOx   Fe3O4   \n",
       "4       4         2     Nanjing high technology NANO Co., LTD    MeOx     ZnO   \n",
       "5       5         2  Third chemical regent factory of Tianjin    MeOx     ZnO   \n",
       "\n",
       "   diameter_mean  diameter_max  diameter_min  length_mean  length_max  ...  \\\n",
       "1            6.5           NaN           NaN          NaN         NaN  ...   \n",
       "2            7.5           NaN           NaN          NaN         NaN  ...   \n",
       "3            6.0           NaN           NaN          NaN         NaN  ...   \n",
       "4           20.0           NaN           NaN          NaN         NaN  ...   \n",
       "5         1000.0           NaN           NaN          NaN         NaN  ...   \n",
       "\n",
       "    ec_ul   ec_ll  immobilisation_rate  immobilisation_concentration   lc50  \\\n",
       "1  11.000  15.000                 50.0                        12.000    NaN   \n",
       "2  13.000  20.000                 50.0                        16.000    NaN   \n",
       "3   0.170   0.380                 50.0                         0.230    NaN   \n",
       "4   0.805   0.411                  0.5                         0.622  1.511   \n",
       "5   0.667   0.301                  0.5                         0.481  1.250   \n",
       "\n",
       "   lc_ul  lc_ll  mortality  mortality_concentration  \\\n",
       "1    NaN    NaN        NaN                      NaN   \n",
       "2    NaN    NaN        NaN                      NaN   \n",
       "3    NaN    NaN        NaN                      NaN   \n",
       "4  2.108  1.120       50.0                    1.511   \n",
       "5  1.848  0.985       50.0                    1.250   \n",
       "\n",
       "                                      others_feature  \n",
       "1             단위 환산 error, water condition, LC -> EC  \n",
       "2             단위 환산 error, water condition, LC -> EC  \n",
       "3             단위 환산 error, water condition, LC -> EC  \n",
       "4  bulk, carbon data 추가, 단위 환산 error, water condi...  \n",
       "5  bulk, carbon data 추가, 단위 환산 error, water condi...  \n",
       "\n",
       "[5 rows x 68 columns]"
      ]
     },
     "execution_count": 68,
     "metadata": {},
     "output_type": "execute_result"
    }
   ],
   "source": [
    "daphnia_df.head()"
   ]
  }
 ],
 "metadata": {
  "kernelspec": {
   "display_name": "Python 3",
   "language": "python",
   "name": "python3"
  },
  "language_info": {
   "codemirror_mode": {
    "name": "ipython",
    "version": 3
   },
   "file_extension": ".py",
   "mimetype": "text/x-python",
   "name": "python",
   "nbconvert_exporter": "python",
   "pygments_lexer": "ipython3",
   "version": "3.8.8"
  }
 },
 "nbformat": 4,
 "nbformat_minor": 5
}
